{
 "cells": [
  {
   "cell_type": "markdown",
   "metadata": {},
   "source": [
    "## CAÍTULO II: Autollamadas con algoritmos recursivos\n",
    "### Ejercicios propuestos"
   ]
  },
  {
   "cell_type": "markdown",
   "metadata": {},
   "source": [
    "6. Dada una secuencia de caracteres, obtener dicha secuencia invertida"
   ]
  },
  {
   "cell_type": "code",
   "execution_count": 1,
   "metadata": {},
   "outputs": [
    {
     "name": "stdout",
     "output_type": "stream",
     "text": [
      "orebresnaC\n"
     ]
    }
   ],
   "source": [
    "stringer = input(\"Escribe algo: \")\n",
    "large = len(stringer) - 1\n",
    "\n",
    "\n",
    "def invert_string(large):\n",
    "    if large == -1:\n",
    "        return \"\"\n",
    "    else:\n",
    "        char = stringer[large]\n",
    "        return char + invert_string(large - 1)\n",
    "\n",
    "\n",
    "print(invert_string(large))"
   ]
  },
  {
   "cell_type": "markdown",
   "metadata": {},
   "source": [
    "7. Desarrollar un algoritmo que permita calcular la siguiente serie:\n",
    "$$ h(n) = 1 + \\frac{1}{2} + \\frac{1}{3} + \\frac{1}{4} + \\dots + \\frac{1}{n} $$"
   ]
  },
  {
   "cell_type": "code",
   "execution_count": 3,
   "metadata": {},
   "outputs": [
    {
     "ename": "UnboundLocalError",
     "evalue": "cannot access local variable 'h' where it is not associated with a value",
     "output_type": "error",
     "traceback": [
      "\u001b[1;31m---------------------------------------------------------------------------\u001b[0m",
      "\u001b[1;31mUnboundLocalError\u001b[0m                         Traceback (most recent call last)",
      "\u001b[1;32mc:\\Users\\Joao\\Documents\\Source\\propuestos_py.ipynb Celda 5\u001b[0m line \u001b[0;36m1\n\u001b[0;32m      <a href='vscode-notebook-cell:/c%3A/Users/Joao/Documents/Source/propuestos_py.ipynb#W4sZmlsZQ%3D%3D?line=6'>7</a>\u001b[0m         h \u001b[39m+\u001b[39m\u001b[39m=\u001b[39m \u001b[39m1\u001b[39m\u001b[39m/\u001b[39mn \n\u001b[0;32m      <a href='vscode-notebook-cell:/c%3A/Users/Joao/Documents/Source/propuestos_py.ipynb#W4sZmlsZQ%3D%3D?line=7'>8</a>\u001b[0m         \u001b[39mreturn\u001b[39;00m h \u001b[39m+\u001b[39m math_funt(n\u001b[39m-\u001b[39m\u001b[39m1\u001b[39m)\n\u001b[1;32m---> <a href='vscode-notebook-cell:/c%3A/Users/Joao/Documents/Source/propuestos_py.ipynb#W4sZmlsZQ%3D%3D?line=9'>10</a>\u001b[0m \u001b[39mprint\u001b[39m(math_funt(number))\n",
      "\u001b[1;32mc:\\Users\\Joao\\Documents\\Source\\propuestos_py.ipynb Celda 5\u001b[0m line \u001b[0;36m7\n\u001b[0;32m      <a href='vscode-notebook-cell:/c%3A/Users/Joao/Documents/Source/propuestos_py.ipynb#W4sZmlsZQ%3D%3D?line=4'>5</a>\u001b[0m     \u001b[39mreturn\u001b[39;00m \u001b[39m1\u001b[39m\n\u001b[0;32m      <a href='vscode-notebook-cell:/c%3A/Users/Joao/Documents/Source/propuestos_py.ipynb#W4sZmlsZQ%3D%3D?line=5'>6</a>\u001b[0m \u001b[39mif\u001b[39;00m n \u001b[39m>\u001b[39m\u001b[39m=\u001b[39m \u001b[39m1\u001b[39m:\n\u001b[1;32m----> <a href='vscode-notebook-cell:/c%3A/Users/Joao/Documents/Source/propuestos_py.ipynb#W4sZmlsZQ%3D%3D?line=6'>7</a>\u001b[0m     h \u001b[39m+\u001b[39m\u001b[39m=\u001b[39m \u001b[39m1\u001b[39m\u001b[39m/\u001b[39mn \n\u001b[0;32m      <a href='vscode-notebook-cell:/c%3A/Users/Joao/Documents/Source/propuestos_py.ipynb#W4sZmlsZQ%3D%3D?line=7'>8</a>\u001b[0m     \u001b[39mreturn\u001b[39;00m h \u001b[39m+\u001b[39m math_funt(n\u001b[39m-\u001b[39m\u001b[39m1\u001b[39m)\n",
      "\u001b[1;31mUnboundLocalError\u001b[0m: cannot access local variable 'h' where it is not associated with a value"
     ]
    }
   ],
   "source": [
    "number = int(input(\"Ingrese un número: \"))\n",
    "h = 0\n",
    "\n",
    "\n",
    "def math_funt(n, h):\n",
    "    if n == 0:\n",
    "        return 1\n",
    "    if n >= 1:\n",
    "        h += 1 / n\n",
    "        return h + math_funt(n - 1, h)\n",
    "\n",
    "\n",
    "print(math_funt(number, h))"
   ]
  }
 ],
 "metadata": {
  "kernelspec": {
   "display_name": "Python 3",
   "language": "python",
   "name": "python3"
  },
  "language_info": {
   "codemirror_mode": {
    "name": "ipython",
    "version": 3
   },
   "file_extension": ".py",
   "mimetype": "text/x-python",
   "name": "python",
   "nbconvert_exporter": "python",
   "pygments_lexer": "ipython3",
   "version": "3.12.0"
  }
 },
 "nbformat": 4,
 "nbformat_minor": 2
}
