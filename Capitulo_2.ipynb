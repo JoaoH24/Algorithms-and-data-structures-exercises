{
 "cells": [
  {
   "cell_type": "markdown",
   "metadata": {},
   "source": [
    "## CAPÍTULO II: Autollamadas con algoritmos recursivos\n",
    "### Ejercicios propuestos"
   ]
  },
  {
   "cell_type": "markdown",
   "metadata": {},
   "source": [
    "6. Dada una secuencia de caracteres, obtener dicha secuencia invertida."
   ]
  },
  {
   "cell_type": "code",
   "execution_count": 1,
   "metadata": {},
   "outputs": [
    {
     "name": "stdout",
     "output_type": "stream",
     "text": [
      "odnum aloH\n"
     ]
    }
   ],
   "source": [
    "cadena = input(\"Escribe algo: \")\n",
    "longitud_cadena = len(cadena) - 1\n",
    "\n",
    "\n",
    "def invertir_cadena(longitud):\n",
    "    if longitud == -1:\n",
    "        return \"\"\n",
    "    else:\n",
    "        caracter = cadena[longitud]\n",
    "        return caracter + invertir_cadena(longitud - 1)\n",
    "\n",
    "\n",
    "cadena_invertida = invertir_cadena(longitud_cadena)\n",
    "print(cadena_invertida)"
   ]
  },
  {
   "cell_type": "markdown",
   "metadata": {},
   "source": [
    "7. Desarrollar un algoritmo que permita calcular la siguiente serie:\n",
    "$$ h(n) = 1 + \\frac{1}{2} + \\frac{1}{3} + \\frac{1}{4} + \\dots + \\frac{1}{n} $$"
   ]
  },
  {
   "cell_type": "code",
   "execution_count": 2,
   "metadata": {},
   "outputs": [
    {
     "name": "stdout",
     "output_type": "stream",
     "text": [
      "2.7178571428571425\n"
     ]
    }
   ],
   "source": [
    "numero_ingresado = int(input(\"Ingrese un número: \"))\n",
    "\n",
    "\n",
    "def calcular_serie(n, contador=1):\n",
    "    if contador > n:\n",
    "        return 0\n",
    "    else:\n",
    "        termino_actual = 1 / contador\n",
    "        return termino_actual + calcular_serie(n, contador + 1)\n",
    "\n",
    "\n",
    "resultado = calcular_serie(numero_ingresado)\n",
    "print(resultado)"
   ]
  },
  {
   "cell_type": "markdown",
   "metadata": {},
   "source": [
    "8. Desarrollar un algoritmo que permita convertir un número entero en sistema decimal a sistema binario."
   ]
  },
  {
   "cell_type": "code",
   "execution_count": 5,
   "metadata": {},
   "outputs": [
    {
     "name": "stdout",
     "output_type": "stream",
     "text": [
      "Decimal: 73 ====> Binario: 1001001\n"
     ]
    }
   ],
   "source": [
    "decimal = int(input(\"Ingrese un numero en base decimal: \"))\n",
    "\n",
    "\n",
    "def decimal_a_binario(numero_decimal):\n",
    "    if numero_decimal == 0:\n",
    "        return \"\"\n",
    "    else:\n",
    "        return decimal_a_binario(numero_decimal // 2) + str(numero_decimal % 2)\n",
    "\n",
    "\n",
    "binario = decimal_a_binario(decimal)\n",
    "\n",
    "print(f\"Decimal: {decimal} ====> Binario: {binario}\")"
   ]
  },
  {
   "cell_type": "markdown",
   "metadata": {},
   "source": [
    "9. Implementar una función para calcular el logaritmo entero de número \"n\" en una base \"b\". Recuerde que:\n",
    "\n",
    "$$ \\log_{b}{(\\frac{n}{b})} = \\log_{b}{n} - \\log_{b}{b} $$\n",
    "$$ \\log_{b}{(\\frac{n}{b})} = \\log_{b}{n} - 1 $$"
   ]
  },
  {
   "cell_type": "code",
   "execution_count": 8,
   "metadata": {},
   "outputs": [
    {
     "name": "stdout",
     "output_type": "stream",
     "text": [
      "5.0\n"
     ]
    }
   ],
   "source": [
    "import math\n",
    "\n",
    "base_logaritmo = int(input(\"Ingrese el valor de la base del logaritmo: \"))\n",
    "argumento_logaritmo = int(input(\"Ingrese el valor del argumento del logaritmo: \"))\n",
    "\n",
    "def calcular_expresión(base, argumento):\n",
    "    return math.log(argumento, base) - 1\n",
    "\n",
    "resultado = calcular_expresión(base_logaritmo, argumento_logaritmo)\n",
    "\n",
    "print(resultado)"
   ]
  },
  {
   "cell_type": "markdown",
   "metadata": {},
   "source": [
    "10. Desarrollar un algoritmo que cuente la cantidad de dígitos de un número entero."
   ]
  },
  {
   "cell_type": "code",
   "execution_count": 15,
   "metadata": {},
   "outputs": [
    {
     "name": "stdout",
     "output_type": "stream",
     "text": [
      "14\n"
     ]
    }
   ],
   "source": [
    "numero_usuario = int(input(\"Ingrese un numero: \"))\n",
    "\n",
    "def contar_digitos(numero, contador=0):\n",
    "    if numero//10 == 0:\n",
    "        return contador + 1\n",
    "    else:\n",
    "        contador += 1\n",
    "        return contar_digitos(numero//10, contador)\n",
    "    \n",
    "cantidad_digitos = contar_digitos(numero_usuario)\n",
    "\n",
    "print(f\"El numero ingresado tiene: {cantidad_digitos} digitos\")"
   ]
  }
 ],
 "metadata": {
  "kernelspec": {
   "display_name": "Python 3",
   "language": "python",
   "name": "python3"
  },
  "language_info": {
   "codemirror_mode": {
    "name": "ipython",
    "version": 3
   },
   "file_extension": ".py",
   "mimetype": "text/x-python",
   "name": "python",
   "nbconvert_exporter": "python",
   "pygments_lexer": "ipython3",
   "version": "3.11.5"
  }
 },
 "nbformat": 4,
 "nbformat_minor": 2
}
